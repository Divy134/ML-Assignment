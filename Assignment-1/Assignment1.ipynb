{
 "cells": [
  {
   "cell_type": "code",
   "execution_count": 1,
   "metadata": {},
   "outputs": [],
   "source": [
    "import numpy as np"
   ]
  },
  {
   "cell_type": "code",
   "execution_count": 6,
   "metadata": {},
   "outputs": [
    {
     "name": "stdout",
     "output_type": "stream",
     "text": [
      "[[0 1]\n",
      " [2 3]]\n",
      "[[0 1]\n",
      " [2 3]]\n",
      "\n",
      "Way 1 [[ 2  3]\n",
      " [ 6 11]]\n",
      "\n",
      "Way 2 [[ 2  3]\n",
      " [ 6 11]]\n",
      "\n",
      "Way 3 [[ 2  3]\n",
      " [ 6 11]]\n",
      "\n",
      "Way 4 [[ 2  3]\n",
      " [ 6 11]]\n"
     ]
    }
   ],
   "source": [
    "# 4 ways of Dot product\n",
    "arr1 = np.arange(4).reshape(2,2)\n",
    "arr2 = np.arange(4).reshape(2,2)\n",
    "\n",
    "print(arr1)\n",
    "print(arr2)\n",
    "print()\n",
    "\n",
    "print(\"Way 1\",np.dot(arr1, arr2))\n",
    "print()\n",
    "\n",
    "print(\"Way 2\",arr1@arr2)\n",
    "print()\n",
    "\n",
    "print(\"Way 3\",arr1.dot(arr2))\n",
    "print()\n",
    "\n",
    "print(\"Way 4\",np.matmul(arr1, arr2))"
   ]
  },
  {
   "cell_type": "code",
   "execution_count": 9,
   "metadata": {},
   "outputs": [
    {
     "name": "stdout",
     "output_type": "stream",
     "text": [
      "1-D array [[ 0]\n",
      " [ 1]\n",
      " [ 2]\n",
      " [ 3]\n",
      " [ 4]\n",
      " [ 5]\n",
      " [ 6]\n",
      " [ 7]\n",
      " [ 8]\n",
      " [ 9]\n",
      " [10]\n",
      " [11]\n",
      " [12]\n",
      " [13]\n",
      " [14]]\n",
      "\n",
      "2-D array [[ 0]\n",
      " [ 1]\n",
      " [ 2]\n",
      " [ 3]\n",
      " [ 4]\n",
      " [ 5]\n",
      " [ 6]\n",
      " [ 7]\n",
      " [ 8]\n",
      " [ 9]\n",
      " [10]\n",
      " [11]\n",
      " [12]\n",
      " [13]\n",
      " [14]]\n",
      "\n",
      "3-D array [[0]\n",
      " [1]\n",
      " [2]\n",
      " [3]\n",
      " [4]\n",
      " [5]\n",
      " [6]\n",
      " [7]]\n"
     ]
    }
   ],
   "source": [
    "arr1 = np.arange(15).reshape(-1,1)\n",
    "print(\"1-D array\",arr1)\n",
    "print()\n",
    "\n",
    "arr2 = np.arange(15).reshape(5,3)\n",
    "print(\"2-D array\",arr2.reshape(-1,1))\n",
    "print()\n",
    "\n",
    "arr3 = np.arange(8).reshape(2,2,2)\n",
    "print(\"3-D array\",arr3.reshape(-1,1))"
   ]
  },
  {
   "cell_type": "code",
   "execution_count": 11,
   "metadata": {},
   "outputs": [
    {
     "name": "stdout",
     "output_type": "stream",
     "text": [
      "[[0 1 2 3]]\n",
      "[[0]\n",
      " [1]\n",
      " [2]\n",
      " [3]]\n",
      "[[0 1 2 3]\n",
      " [1 2 3 4]\n",
      " [2 3 4 5]\n",
      " [3 4 5 6]]\n"
     ]
    }
   ],
   "source": [
    "# Broadcasting\n",
    "\n",
    "arr1 = np.arange(4).reshape(1,4)\n",
    "arr2 = np.arange(4).reshape(4,1)\n",
    "\n",
    "print(arr1)\n",
    "print(arr2)\n",
    "\n",
    "print(arr1+arr2)\n"
   ]
  },
  {
   "cell_type": "code",
   "execution_count": 15,
   "metadata": {},
   "outputs": [
    {
     "name": "stdout",
     "output_type": "stream",
     "text": [
      "[[0 1 2 3]]\n",
      "[[0 1]\n",
      " [2 3]]\n"
     ]
    },
    {
     "ename": "ValueError",
     "evalue": "operands could not be broadcast together with shapes (1,4) (2,2) ",
     "output_type": "error",
     "traceback": [
      "\u001b[1;31m---------------------------------------------------------------------------\u001b[0m",
      "\u001b[1;31mValueError\u001b[0m                                Traceback (most recent call last)",
      "Cell \u001b[1;32mIn[15], line 7\u001b[0m\n\u001b[0;32m      4\u001b[0m \u001b[39mprint\u001b[39m(arr1)\n\u001b[0;32m      5\u001b[0m \u001b[39mprint\u001b[39m(arr2)\n\u001b[1;32m----> 7\u001b[0m \u001b[39mprint\u001b[39m(arr1\u001b[39m+\u001b[39;49marr2)  \n",
      "\u001b[1;31mValueError\u001b[0m: operands could not be broadcast together with shapes (1,4) (2,2) "
     ]
    }
   ],
   "source": [
    "arr1 = np.arange(4).reshape(1,4)\n",
    "arr2 = np.arange(4).reshape(2,2)\n",
    "\n",
    "print(arr1)\n",
    "print(arr2)\n",
    "\n",
    "print(arr1+arr2)  \n"
   ]
  },
  {
   "cell_type": "code",
   "execution_count": 20,
   "metadata": {},
   "outputs": [
    {
     "name": "stdout",
     "output_type": "stream",
     "text": [
      "Dimantion :2, dtype :int32\n",
      "[[0 1 2]\n",
      " [3 4 5]\n",
      " [6 7 8]]\n",
      "\n",
      "Dimantion :2, dtype :int16\n",
      "[[0 0 1 0 2 0]\n",
      " [3 0 4 0 5 0]\n",
      " [6 0 7 0 8 0]]\n"
     ]
    }
   ],
   "source": [
    "# view()........................\n",
    "\n",
    "arr = np.arange(9).reshape(3,3)\n",
    "view_arr = arr.view(np.int16).reshape(3,6)\n",
    "print(f\"Dimantion :{arr.ndim}, dtype :{arr.dtype}\")\n",
    "print(arr)\n",
    "print()\n",
    "print(f\"Dimantion :{view_arr.ndim}, dtype :{view_arr.dtype}\")\n",
    "print(view_arr)\n",
    "\n"
   ]
  },
  {
   "cell_type": "code",
   "execution_count": 24,
   "metadata": {},
   "outputs": [
    {
     "data": {
      "text/plain": [
       "True"
      ]
     },
     "execution_count": 24,
     "metadata": {},
     "output_type": "execute_result"
    }
   ],
   "source": [
    "# Copy()........................\n",
    "\n",
    "a = np.array ( [2, 3, 4])\n",
    "b = a\n",
    "c = np.copy(a)\n",
    "a[0] = 15\n",
    "b[0] == b[0]   # this should be true because 'a' is asigned to 'b'\n",
    "# b[0] == c[0]  this should be false because 'c' is deep copy of 'a'"
   ]
  }
 ],
 "metadata": {
  "kernelspec": {
   "display_name": "Python 3",
   "language": "python",
   "name": "python3"
  },
  "language_info": {
   "codemirror_mode": {
    "name": "ipython",
    "version": 3
   },
   "file_extension": ".py",
   "mimetype": "text/x-python",
   "name": "python",
   "nbconvert_exporter": "python",
   "pygments_lexer": "ipython3",
   "version": "3.11.2"
  },
  "orig_nbformat": 4
 },
 "nbformat": 4,
 "nbformat_minor": 2
}
